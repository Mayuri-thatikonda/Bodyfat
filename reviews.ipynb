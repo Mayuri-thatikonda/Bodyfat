{
  "nbformat": 4,
  "nbformat_minor": 0,
  "metadata": {
    "colab": {
      "name": "reviews.ipynb",
      "provenance": [],
      "authorship_tag": "ABX9TyNSga5wpJHCcrjMUSA4vh51",
      "include_colab_link": true
    },
    "kernelspec": {
      "name": "python3",
      "display_name": "Python 3"
    },
    "language_info": {
      "name": "python"
    }
  },
  "cells": [
    {
      "cell_type": "markdown",
      "metadata": {
        "id": "view-in-github",
        "colab_type": "text"
      },
      "source": [
        "<a href=\"https://colab.research.google.com/github/Mayuri-thatikonda/Bodyfat/blob/main/reviews.ipynb\" target=\"_parent\"><img src=\"https://colab.research.google.com/assets/colab-badge.svg\" alt=\"Open In Colab\"/></a>"
      ]
    },
    {
      "cell_type": "code",
      "metadata": {
        "id": "IJq8iA89XT6z"
      },
      "source": [
        "import numpy as np\n",
        "import pandas as pd\n",
        "import matplotlib.pyplot as plt\n"
      ],
      "execution_count": 1,
      "outputs": []
    },
    {
      "cell_type": "code",
      "metadata": {
        "colab": {
          "base_uri": "https://localhost:8080/",
          "height": 330
        },
        "id": "gOKWWEl0XtOv",
        "outputId": "f5a9a991-4856-4c3f-c36c-f14ba52ed76e"
      },
      "source": [
        "data = pd.read_csv('google_review_ratings.csv') \n",
        "data.tail()"
      ],
      "execution_count": 2,
      "outputs": [
        {
          "output_type": "execute_result",
          "data": {
            "text/html": [
              "<div>\n",
              "<style scoped>\n",
              "    .dataframe tbody tr th:only-of-type {\n",
              "        vertical-align: middle;\n",
              "    }\n",
              "\n",
              "    .dataframe tbody tr th {\n",
              "        vertical-align: top;\n",
              "    }\n",
              "\n",
              "    .dataframe thead th {\n",
              "        text-align: right;\n",
              "    }\n",
              "</style>\n",
              "<table border=\"1\" class=\"dataframe\">\n",
              "  <thead>\n",
              "    <tr style=\"text-align: right;\">\n",
              "      <th></th>\n",
              "      <th>User</th>\n",
              "      <th>Category 1</th>\n",
              "      <th>Category 2</th>\n",
              "      <th>Category 3</th>\n",
              "      <th>Category 4</th>\n",
              "      <th>Category 5</th>\n",
              "      <th>Category 6</th>\n",
              "      <th>Category 7</th>\n",
              "      <th>Category 8</th>\n",
              "      <th>Category 9</th>\n",
              "      <th>Category 10</th>\n",
              "      <th>Category 11</th>\n",
              "      <th>Category 12</th>\n",
              "      <th>Category 13</th>\n",
              "      <th>Category 14</th>\n",
              "      <th>Category 15</th>\n",
              "      <th>Category 16</th>\n",
              "      <th>Category 17</th>\n",
              "      <th>Category 18</th>\n",
              "      <th>Category 19</th>\n",
              "      <th>Category 20</th>\n",
              "      <th>Category 21</th>\n",
              "      <th>Category 22</th>\n",
              "      <th>Category 23</th>\n",
              "      <th>Category 24</th>\n",
              "      <th>Unnamed: 25</th>\n",
              "    </tr>\n",
              "  </thead>\n",
              "  <tbody>\n",
              "    <tr>\n",
              "      <th>5451</th>\n",
              "      <td>User 5452</td>\n",
              "      <td>0.91</td>\n",
              "      <td>5.00</td>\n",
              "      <td>4.00</td>\n",
              "      <td>2.79</td>\n",
              "      <td>2.77</td>\n",
              "      <td>2.57</td>\n",
              "      <td>2.43</td>\n",
              "      <td>1.09</td>\n",
              "      <td>1.77</td>\n",
              "      <td>1.04</td>\n",
              "      <td>1.02</td>\n",
              "      <td>1.06</td>\n",
              "      <td>1.29</td>\n",
              "      <td>1.29</td>\n",
              "      <td>5.00</td>\n",
              "      <td>0.66</td>\n",
              "      <td>0.65</td>\n",
              "      <td>0.66</td>\n",
              "      <td>0.69</td>\n",
              "      <td>5.00</td>\n",
              "      <td>1.05</td>\n",
              "      <td>5.0</td>\n",
              "      <td>5.0</td>\n",
              "      <td>1.56</td>\n",
              "      <td>NaN</td>\n",
              "    </tr>\n",
              "    <tr>\n",
              "      <th>5452</th>\n",
              "      <td>User 5453</td>\n",
              "      <td>0.93</td>\n",
              "      <td>5.00</td>\n",
              "      <td>4.02</td>\n",
              "      <td>2.79</td>\n",
              "      <td>2.78</td>\n",
              "      <td>2.57</td>\n",
              "      <td>1.77</td>\n",
              "      <td>1.07</td>\n",
              "      <td>1.76</td>\n",
              "      <td>1.02</td>\n",
              "      <td>1.01</td>\n",
              "      <td>1.04</td>\n",
              "      <td>1.27</td>\n",
              "      <td>1.27</td>\n",
              "      <td>0.89</td>\n",
              "      <td>0.65</td>\n",
              "      <td>0.64</td>\n",
              "      <td>0.65</td>\n",
              "      <td>1.59</td>\n",
              "      <td>1.62</td>\n",
              "      <td>1.06</td>\n",
              "      <td>5.0</td>\n",
              "      <td>5.0</td>\n",
              "      <td>1.09</td>\n",
              "      <td>NaN</td>\n",
              "    </tr>\n",
              "    <tr>\n",
              "      <th>5453</th>\n",
              "      <td>User 5454</td>\n",
              "      <td>0.94</td>\n",
              "      <td>5.00</td>\n",
              "      <td>4.03</td>\n",
              "      <td>2.80</td>\n",
              "      <td>2.78</td>\n",
              "      <td>2.57</td>\n",
              "      <td>1.75</td>\n",
              "      <td>1.05</td>\n",
              "      <td>1.75</td>\n",
              "      <td>1.00</td>\n",
              "      <td>0.99</td>\n",
              "      <td>1.00</td>\n",
              "      <td>1.08</td>\n",
              "      <td>1.25</td>\n",
              "      <td>0.87</td>\n",
              "      <td>0.65</td>\n",
              "      <td>0.63</td>\n",
              "      <td>0.64</td>\n",
              "      <td>0.74</td>\n",
              "      <td>5.00</td>\n",
              "      <td>1.07</td>\n",
              "      <td>5.0</td>\n",
              "      <td>5.0</td>\n",
              "      <td>1.11</td>\n",
              "      <td>NaN</td>\n",
              "    </tr>\n",
              "    <tr>\n",
              "      <th>5454</th>\n",
              "      <td>User 5455</td>\n",
              "      <td>0.95</td>\n",
              "      <td>4.05</td>\n",
              "      <td>4.05</td>\n",
              "      <td>2.81</td>\n",
              "      <td>2.79</td>\n",
              "      <td>2.44</td>\n",
              "      <td>1.76</td>\n",
              "      <td>1.03</td>\n",
              "      <td>1.74</td>\n",
              "      <td>0.98</td>\n",
              "      <td>0.97</td>\n",
              "      <td>0.98</td>\n",
              "      <td>1.06</td>\n",
              "      <td>1.23</td>\n",
              "      <td>5.00</td>\n",
              "      <td>0.64</td>\n",
              "      <td>0.63</td>\n",
              "      <td>0.64</td>\n",
              "      <td>0.75</td>\n",
              "      <td>5.00</td>\n",
              "      <td>1.08</td>\n",
              "      <td>5.0</td>\n",
              "      <td>5.0</td>\n",
              "      <td>1.12</td>\n",
              "      <td>NaN</td>\n",
              "    </tr>\n",
              "    <tr>\n",
              "      <th>5455</th>\n",
              "      <td>User 5456</td>\n",
              "      <td>0.95</td>\n",
              "      <td>4.07</td>\n",
              "      <td>5.00</td>\n",
              "      <td>2.82</td>\n",
              "      <td>2.80</td>\n",
              "      <td>2.57</td>\n",
              "      <td>2.42</td>\n",
              "      <td>1.02</td>\n",
              "      <td>1.74</td>\n",
              "      <td>0.96</td>\n",
              "      <td>0.95</td>\n",
              "      <td>0.96</td>\n",
              "      <td>1.01</td>\n",
              "      <td>1.21</td>\n",
              "      <td>0.85</td>\n",
              "      <td>0.64</td>\n",
              "      <td>0.62</td>\n",
              "      <td>0.63</td>\n",
              "      <td>0.78</td>\n",
              "      <td>5.00</td>\n",
              "      <td>1.08</td>\n",
              "      <td>5.0</td>\n",
              "      <td>5.0</td>\n",
              "      <td>1.17</td>\n",
              "      <td>NaN</td>\n",
              "    </tr>\n",
              "  </tbody>\n",
              "</table>\n",
              "</div>"
            ],
            "text/plain": [
              "           User  Category 1  Category 2  ...  Category 23  Category 24  Unnamed: 25\n",
              "5451  User 5452        0.91        5.00  ...          5.0         1.56          NaN\n",
              "5452  User 5453        0.93        5.00  ...          5.0         1.09          NaN\n",
              "5453  User 5454        0.94        5.00  ...          5.0         1.11          NaN\n",
              "5454  User 5455        0.95        4.05  ...          5.0         1.12          NaN\n",
              "5455  User 5456        0.95        4.07  ...          5.0         1.17          NaN\n",
              "\n",
              "[5 rows x 26 columns]"
            ]
          },
          "metadata": {
            "tags": []
          },
          "execution_count": 2
        }
      ]
    },
    {
      "cell_type": "code",
      "metadata": {
        "colab": {
          "base_uri": "https://localhost:8080/"
        },
        "id": "LvCh8CQJmKin",
        "outputId": "f391ec2c-aa00-47a6-d17e-d12483cd9c89"
      },
      "source": [
        "data.dtypes\n"
      ],
      "execution_count": 3,
      "outputs": [
        {
          "output_type": "execute_result",
          "data": {
            "text/plain": [
              "User            object\n",
              "Category 1     float64\n",
              "Category 2     float64\n",
              "Category 3     float64\n",
              "Category 4     float64\n",
              "Category 5     float64\n",
              "Category 6     float64\n",
              "Category 7     float64\n",
              "Category 8     float64\n",
              "Category 9     float64\n",
              "Category 10    float64\n",
              "Category 11     object\n",
              "Category 12    float64\n",
              "Category 13    float64\n",
              "Category 14    float64\n",
              "Category 15    float64\n",
              "Category 16    float64\n",
              "Category 17    float64\n",
              "Category 18    float64\n",
              "Category 19    float64\n",
              "Category 20    float64\n",
              "Category 21    float64\n",
              "Category 22    float64\n",
              "Category 23    float64\n",
              "Category 24    float64\n",
              "Unnamed: 25    float64\n",
              "dtype: object"
            ]
          },
          "metadata": {
            "tags": []
          },
          "execution_count": 3
        }
      ]
    },
    {
      "cell_type": "code",
      "metadata": {
        "colab": {
          "base_uri": "https://localhost:8080/"
        },
        "id": "JDr-ssqZnJl2",
        "outputId": "e5ca92d6-1d33-4738-f3a0-4308aa274d82"
      },
      "source": [
        "data.columns"
      ],
      "execution_count": 4,
      "outputs": [
        {
          "output_type": "execute_result",
          "data": {
            "text/plain": [
              "Index(['User', 'Category 1', 'Category 2', 'Category 3', 'Category 4',\n",
              "       'Category 5', 'Category 6', 'Category 7', 'Category 8', 'Category 9',\n",
              "       'Category 10', 'Category 11', 'Category 12', 'Category 13',\n",
              "       'Category 14', 'Category 15', 'Category 16', 'Category 17',\n",
              "       'Category 18', 'Category 19', 'Category 20', 'Category 21',\n",
              "       'Category 22', 'Category 23', 'Category 24', 'Unnamed: 25'],\n",
              "      dtype='object')"
            ]
          },
          "metadata": {
            "tags": []
          },
          "execution_count": 4
        }
      ]
    },
    {
      "cell_type": "code",
      "metadata": {
        "colab": {
          "base_uri": "https://localhost:8080/",
          "height": 330
        },
        "id": "otEavKrIief_",
        "outputId": "0d7f53a6-d11e-41a9-db2c-0e7f4c4e5c8a"
      },
      "source": [
        "data.rename(columns={'Category 1': 'churches', 'Category 2': 'resorts','Category 3': 'beaches','Category 4':'parks','Category 5': 'theatres','Category 6':'museums','Category 7':'malls','Category 8':'zoo','Category 9':'restaurants','Category 10':'pubs/bars','Category 11':'local services','Category 12':'burger/pizza shops','Category 13':'hotels/other lodgings','Category 14':'juice bars','Category 15':'art galleries','Category 16':'dance clubs','Category 17':'swimming pools','Category 18':'gyms','Category 19':'bakeries','Category 20':'beauty & spas','Category 21':'cafes','Category 22':'view points','Category 23':'monuments','Category 24':'gardens','Unnamed: 25':'avg'},inplace=True)\n",
        "data.head()\n"
      ],
      "execution_count": 5,
      "outputs": [
        {
          "output_type": "execute_result",
          "data": {
            "text/html": [
              "<div>\n",
              "<style scoped>\n",
              "    .dataframe tbody tr th:only-of-type {\n",
              "        vertical-align: middle;\n",
              "    }\n",
              "\n",
              "    .dataframe tbody tr th {\n",
              "        vertical-align: top;\n",
              "    }\n",
              "\n",
              "    .dataframe thead th {\n",
              "        text-align: right;\n",
              "    }\n",
              "</style>\n",
              "<table border=\"1\" class=\"dataframe\">\n",
              "  <thead>\n",
              "    <tr style=\"text-align: right;\">\n",
              "      <th></th>\n",
              "      <th>User</th>\n",
              "      <th>churches</th>\n",
              "      <th>resorts</th>\n",
              "      <th>beaches</th>\n",
              "      <th>parks</th>\n",
              "      <th>theatres</th>\n",
              "      <th>museums</th>\n",
              "      <th>malls</th>\n",
              "      <th>zoo</th>\n",
              "      <th>restaurants</th>\n",
              "      <th>pubs/bars</th>\n",
              "      <th>local services</th>\n",
              "      <th>burger/pizza shops</th>\n",
              "      <th>hotels/other lodgings</th>\n",
              "      <th>juice bars</th>\n",
              "      <th>art galleries</th>\n",
              "      <th>dance clubs</th>\n",
              "      <th>swimming pools</th>\n",
              "      <th>gyms</th>\n",
              "      <th>bakeries</th>\n",
              "      <th>beauty &amp; spas</th>\n",
              "      <th>cafes</th>\n",
              "      <th>view points</th>\n",
              "      <th>monuments</th>\n",
              "      <th>gardens</th>\n",
              "      <th>avg</th>\n",
              "    </tr>\n",
              "  </thead>\n",
              "  <tbody>\n",
              "    <tr>\n",
              "      <th>0</th>\n",
              "      <td>User 1</td>\n",
              "      <td>0.0</td>\n",
              "      <td>0.0</td>\n",
              "      <td>3.63</td>\n",
              "      <td>3.65</td>\n",
              "      <td>5.0</td>\n",
              "      <td>2.92</td>\n",
              "      <td>5.0</td>\n",
              "      <td>2.35</td>\n",
              "      <td>2.33</td>\n",
              "      <td>2.64</td>\n",
              "      <td>1.7</td>\n",
              "      <td>1.69</td>\n",
              "      <td>1.7</td>\n",
              "      <td>1.72</td>\n",
              "      <td>1.74</td>\n",
              "      <td>0.59</td>\n",
              "      <td>0.5</td>\n",
              "      <td>0.0</td>\n",
              "      <td>0.5</td>\n",
              "      <td>0.0</td>\n",
              "      <td>0.0</td>\n",
              "      <td>0.0</td>\n",
              "      <td>0.0</td>\n",
              "      <td>0.0</td>\n",
              "      <td>NaN</td>\n",
              "    </tr>\n",
              "    <tr>\n",
              "      <th>1</th>\n",
              "      <td>User 2</td>\n",
              "      <td>0.0</td>\n",
              "      <td>0.0</td>\n",
              "      <td>3.63</td>\n",
              "      <td>3.65</td>\n",
              "      <td>5.0</td>\n",
              "      <td>2.92</td>\n",
              "      <td>5.0</td>\n",
              "      <td>2.64</td>\n",
              "      <td>2.33</td>\n",
              "      <td>2.65</td>\n",
              "      <td>1.7</td>\n",
              "      <td>1.69</td>\n",
              "      <td>1.7</td>\n",
              "      <td>1.72</td>\n",
              "      <td>1.74</td>\n",
              "      <td>0.59</td>\n",
              "      <td>0.5</td>\n",
              "      <td>0.0</td>\n",
              "      <td>0.5</td>\n",
              "      <td>0.0</td>\n",
              "      <td>0.0</td>\n",
              "      <td>0.0</td>\n",
              "      <td>0.0</td>\n",
              "      <td>0.0</td>\n",
              "      <td>NaN</td>\n",
              "    </tr>\n",
              "    <tr>\n",
              "      <th>2</th>\n",
              "      <td>User 3</td>\n",
              "      <td>0.0</td>\n",
              "      <td>0.0</td>\n",
              "      <td>3.63</td>\n",
              "      <td>3.63</td>\n",
              "      <td>5.0</td>\n",
              "      <td>2.92</td>\n",
              "      <td>5.0</td>\n",
              "      <td>2.64</td>\n",
              "      <td>2.33</td>\n",
              "      <td>2.64</td>\n",
              "      <td>1.7</td>\n",
              "      <td>1.69</td>\n",
              "      <td>1.7</td>\n",
              "      <td>1.72</td>\n",
              "      <td>1.74</td>\n",
              "      <td>0.59</td>\n",
              "      <td>0.5</td>\n",
              "      <td>0.0</td>\n",
              "      <td>0.5</td>\n",
              "      <td>0.0</td>\n",
              "      <td>0.0</td>\n",
              "      <td>0.0</td>\n",
              "      <td>0.0</td>\n",
              "      <td>0.0</td>\n",
              "      <td>NaN</td>\n",
              "    </tr>\n",
              "    <tr>\n",
              "      <th>3</th>\n",
              "      <td>User 4</td>\n",
              "      <td>0.0</td>\n",
              "      <td>0.5</td>\n",
              "      <td>3.63</td>\n",
              "      <td>3.63</td>\n",
              "      <td>5.0</td>\n",
              "      <td>2.92</td>\n",
              "      <td>5.0</td>\n",
              "      <td>2.35</td>\n",
              "      <td>2.33</td>\n",
              "      <td>2.64</td>\n",
              "      <td>1.73</td>\n",
              "      <td>1.69</td>\n",
              "      <td>1.7</td>\n",
              "      <td>1.72</td>\n",
              "      <td>1.74</td>\n",
              "      <td>0.59</td>\n",
              "      <td>0.5</td>\n",
              "      <td>0.0</td>\n",
              "      <td>0.5</td>\n",
              "      <td>0.0</td>\n",
              "      <td>0.0</td>\n",
              "      <td>0.0</td>\n",
              "      <td>0.0</td>\n",
              "      <td>0.0</td>\n",
              "      <td>NaN</td>\n",
              "    </tr>\n",
              "    <tr>\n",
              "      <th>4</th>\n",
              "      <td>User 5</td>\n",
              "      <td>0.0</td>\n",
              "      <td>0.0</td>\n",
              "      <td>3.63</td>\n",
              "      <td>3.63</td>\n",
              "      <td>5.0</td>\n",
              "      <td>2.92</td>\n",
              "      <td>5.0</td>\n",
              "      <td>2.64</td>\n",
              "      <td>2.33</td>\n",
              "      <td>2.64</td>\n",
              "      <td>1.7</td>\n",
              "      <td>1.69</td>\n",
              "      <td>1.7</td>\n",
              "      <td>1.72</td>\n",
              "      <td>1.74</td>\n",
              "      <td>0.59</td>\n",
              "      <td>0.5</td>\n",
              "      <td>0.0</td>\n",
              "      <td>0.5</td>\n",
              "      <td>0.0</td>\n",
              "      <td>0.0</td>\n",
              "      <td>0.0</td>\n",
              "      <td>0.0</td>\n",
              "      <td>0.0</td>\n",
              "      <td>NaN</td>\n",
              "    </tr>\n",
              "  </tbody>\n",
              "</table>\n",
              "</div>"
            ],
            "text/plain": [
              "     User  churches  resorts  beaches  ...  view points  monuments  gardens  avg\n",
              "0  User 1       0.0      0.0     3.63  ...          0.0        0.0      0.0  NaN\n",
              "1  User 2       0.0      0.0     3.63  ...          0.0        0.0      0.0  NaN\n",
              "2  User 3       0.0      0.0     3.63  ...          0.0        0.0      0.0  NaN\n",
              "3  User 4       0.0      0.5     3.63  ...          0.0        0.0      0.0  NaN\n",
              "4  User 5       0.0      0.0     3.63  ...          0.0        0.0      0.0  NaN\n",
              "\n",
              "[5 rows x 26 columns]"
            ]
          },
          "metadata": {
            "tags": []
          },
          "execution_count": 5
        }
      ]
    },
    {
      "cell_type": "code",
      "metadata": {
        "colab": {
          "base_uri": "https://localhost:8080/",
          "height": 243
        },
        "id": "gwS-3JqN_3eu",
        "outputId": "c111381b-33f8-4d96-f6c8-ed3c02308a90"
      },
      "source": [
        "data.drop(['User'],axis=1,inplace=True)\n",
        "data.head()"
      ],
      "execution_count": 6,
      "outputs": [
        {
          "output_type": "execute_result",
          "data": {
            "text/html": [
              "<div>\n",
              "<style scoped>\n",
              "    .dataframe tbody tr th:only-of-type {\n",
              "        vertical-align: middle;\n",
              "    }\n",
              "\n",
              "    .dataframe tbody tr th {\n",
              "        vertical-align: top;\n",
              "    }\n",
              "\n",
              "    .dataframe thead th {\n",
              "        text-align: right;\n",
              "    }\n",
              "</style>\n",
              "<table border=\"1\" class=\"dataframe\">\n",
              "  <thead>\n",
              "    <tr style=\"text-align: right;\">\n",
              "      <th></th>\n",
              "      <th>churches</th>\n",
              "      <th>resorts</th>\n",
              "      <th>beaches</th>\n",
              "      <th>parks</th>\n",
              "      <th>theatres</th>\n",
              "      <th>museums</th>\n",
              "      <th>malls</th>\n",
              "      <th>zoo</th>\n",
              "      <th>restaurants</th>\n",
              "      <th>pubs/bars</th>\n",
              "      <th>local services</th>\n",
              "      <th>burger/pizza shops</th>\n",
              "      <th>hotels/other lodgings</th>\n",
              "      <th>juice bars</th>\n",
              "      <th>art galleries</th>\n",
              "      <th>dance clubs</th>\n",
              "      <th>swimming pools</th>\n",
              "      <th>gyms</th>\n",
              "      <th>bakeries</th>\n",
              "      <th>beauty &amp; spas</th>\n",
              "      <th>cafes</th>\n",
              "      <th>view points</th>\n",
              "      <th>monuments</th>\n",
              "      <th>gardens</th>\n",
              "      <th>avg</th>\n",
              "    </tr>\n",
              "  </thead>\n",
              "  <tbody>\n",
              "    <tr>\n",
              "      <th>0</th>\n",
              "      <td>0.0</td>\n",
              "      <td>0.0</td>\n",
              "      <td>3.63</td>\n",
              "      <td>3.65</td>\n",
              "      <td>5.0</td>\n",
              "      <td>2.92</td>\n",
              "      <td>5.0</td>\n",
              "      <td>2.35</td>\n",
              "      <td>2.33</td>\n",
              "      <td>2.64</td>\n",
              "      <td>1.7</td>\n",
              "      <td>1.69</td>\n",
              "      <td>1.7</td>\n",
              "      <td>1.72</td>\n",
              "      <td>1.74</td>\n",
              "      <td>0.59</td>\n",
              "      <td>0.5</td>\n",
              "      <td>0.0</td>\n",
              "      <td>0.5</td>\n",
              "      <td>0.0</td>\n",
              "      <td>0.0</td>\n",
              "      <td>0.0</td>\n",
              "      <td>0.0</td>\n",
              "      <td>0.0</td>\n",
              "      <td>NaN</td>\n",
              "    </tr>\n",
              "    <tr>\n",
              "      <th>1</th>\n",
              "      <td>0.0</td>\n",
              "      <td>0.0</td>\n",
              "      <td>3.63</td>\n",
              "      <td>3.65</td>\n",
              "      <td>5.0</td>\n",
              "      <td>2.92</td>\n",
              "      <td>5.0</td>\n",
              "      <td>2.64</td>\n",
              "      <td>2.33</td>\n",
              "      <td>2.65</td>\n",
              "      <td>1.7</td>\n",
              "      <td>1.69</td>\n",
              "      <td>1.7</td>\n",
              "      <td>1.72</td>\n",
              "      <td>1.74</td>\n",
              "      <td>0.59</td>\n",
              "      <td>0.5</td>\n",
              "      <td>0.0</td>\n",
              "      <td>0.5</td>\n",
              "      <td>0.0</td>\n",
              "      <td>0.0</td>\n",
              "      <td>0.0</td>\n",
              "      <td>0.0</td>\n",
              "      <td>0.0</td>\n",
              "      <td>NaN</td>\n",
              "    </tr>\n",
              "    <tr>\n",
              "      <th>2</th>\n",
              "      <td>0.0</td>\n",
              "      <td>0.0</td>\n",
              "      <td>3.63</td>\n",
              "      <td>3.63</td>\n",
              "      <td>5.0</td>\n",
              "      <td>2.92</td>\n",
              "      <td>5.0</td>\n",
              "      <td>2.64</td>\n",
              "      <td>2.33</td>\n",
              "      <td>2.64</td>\n",
              "      <td>1.7</td>\n",
              "      <td>1.69</td>\n",
              "      <td>1.7</td>\n",
              "      <td>1.72</td>\n",
              "      <td>1.74</td>\n",
              "      <td>0.59</td>\n",
              "      <td>0.5</td>\n",
              "      <td>0.0</td>\n",
              "      <td>0.5</td>\n",
              "      <td>0.0</td>\n",
              "      <td>0.0</td>\n",
              "      <td>0.0</td>\n",
              "      <td>0.0</td>\n",
              "      <td>0.0</td>\n",
              "      <td>NaN</td>\n",
              "    </tr>\n",
              "    <tr>\n",
              "      <th>3</th>\n",
              "      <td>0.0</td>\n",
              "      <td>0.5</td>\n",
              "      <td>3.63</td>\n",
              "      <td>3.63</td>\n",
              "      <td>5.0</td>\n",
              "      <td>2.92</td>\n",
              "      <td>5.0</td>\n",
              "      <td>2.35</td>\n",
              "      <td>2.33</td>\n",
              "      <td>2.64</td>\n",
              "      <td>1.73</td>\n",
              "      <td>1.69</td>\n",
              "      <td>1.7</td>\n",
              "      <td>1.72</td>\n",
              "      <td>1.74</td>\n",
              "      <td>0.59</td>\n",
              "      <td>0.5</td>\n",
              "      <td>0.0</td>\n",
              "      <td>0.5</td>\n",
              "      <td>0.0</td>\n",
              "      <td>0.0</td>\n",
              "      <td>0.0</td>\n",
              "      <td>0.0</td>\n",
              "      <td>0.0</td>\n",
              "      <td>NaN</td>\n",
              "    </tr>\n",
              "    <tr>\n",
              "      <th>4</th>\n",
              "      <td>0.0</td>\n",
              "      <td>0.0</td>\n",
              "      <td>3.63</td>\n",
              "      <td>3.63</td>\n",
              "      <td>5.0</td>\n",
              "      <td>2.92</td>\n",
              "      <td>5.0</td>\n",
              "      <td>2.64</td>\n",
              "      <td>2.33</td>\n",
              "      <td>2.64</td>\n",
              "      <td>1.7</td>\n",
              "      <td>1.69</td>\n",
              "      <td>1.7</td>\n",
              "      <td>1.72</td>\n",
              "      <td>1.74</td>\n",
              "      <td>0.59</td>\n",
              "      <td>0.5</td>\n",
              "      <td>0.0</td>\n",
              "      <td>0.5</td>\n",
              "      <td>0.0</td>\n",
              "      <td>0.0</td>\n",
              "      <td>0.0</td>\n",
              "      <td>0.0</td>\n",
              "      <td>0.0</td>\n",
              "      <td>NaN</td>\n",
              "    </tr>\n",
              "  </tbody>\n",
              "</table>\n",
              "</div>"
            ],
            "text/plain": [
              "   churches  resorts  beaches  parks  ...  view points  monuments  gardens  avg\n",
              "0       0.0      0.0     3.63   3.65  ...          0.0        0.0      0.0  NaN\n",
              "1       0.0      0.0     3.63   3.65  ...          0.0        0.0      0.0  NaN\n",
              "2       0.0      0.0     3.63   3.63  ...          0.0        0.0      0.0  NaN\n",
              "3       0.0      0.5     3.63   3.63  ...          0.0        0.0      0.0  NaN\n",
              "4       0.0      0.0     3.63   3.63  ...          0.0        0.0      0.0  NaN\n",
              "\n",
              "[5 rows x 25 columns]"
            ]
          },
          "metadata": {
            "tags": []
          },
          "execution_count": 6
        }
      ]
    },
    {
      "cell_type": "code",
      "metadata": {
        "colab": {
          "base_uri": "https://localhost:8080/"
        },
        "id": "tNnVJkV6A8Uv",
        "outputId": "f90256d6-73b8-41e3-8a7f-1c9a6d903800"
      },
      "source": [
        "data.isnull().sum()"
      ],
      "execution_count": 7,
      "outputs": [
        {
          "output_type": "execute_result",
          "data": {
            "text/plain": [
              "churches                    0\n",
              "resorts                     0\n",
              "beaches                     0\n",
              "parks                       0\n",
              "theatres                    0\n",
              "museums                     0\n",
              "malls                       0\n",
              "zoo                         0\n",
              "restaurants                 0\n",
              "pubs/bars                   0\n",
              "local services              0\n",
              "burger/pizza shops          1\n",
              "hotels/other lodgings       0\n",
              "juice bars                  0\n",
              "art galleries               0\n",
              "dance clubs                 0\n",
              "swimming pools              0\n",
              "gyms                        0\n",
              "bakeries                    0\n",
              "beauty & spas               0\n",
              "cafes                       0\n",
              "view points                 0\n",
              "monuments                   0\n",
              "gardens                     1\n",
              "avg                      5454\n",
              "dtype: int64"
            ]
          },
          "metadata": {
            "tags": []
          },
          "execution_count": 7
        }
      ]
    },
    {
      "cell_type": "code",
      "metadata": {
        "id": "hakG4fSuBK1s"
      },
      "source": [
        "data.fillna(data.mean(),inplace=True)\n"
      ],
      "execution_count": 8,
      "outputs": []
    },
    {
      "cell_type": "code",
      "metadata": {
        "colab": {
          "base_uri": "https://localhost:8080/"
        },
        "id": "PL7g_jWDIeq-",
        "outputId": "98ca1022-e13d-42f8-82c8-ebde05db659c"
      },
      "source": [
        "data.isnull().sum()"
      ],
      "execution_count": 9,
      "outputs": [
        {
          "output_type": "execute_result",
          "data": {
            "text/plain": [
              "churches                 0\n",
              "resorts                  0\n",
              "beaches                  0\n",
              "parks                    0\n",
              "theatres                 0\n",
              "museums                  0\n",
              "malls                    0\n",
              "zoo                      0\n",
              "restaurants              0\n",
              "pubs/bars                0\n",
              "local services           0\n",
              "burger/pizza shops       0\n",
              "hotels/other lodgings    0\n",
              "juice bars               0\n",
              "art galleries            0\n",
              "dance clubs              0\n",
              "swimming pools           0\n",
              "gyms                     0\n",
              "bakeries                 0\n",
              "beauty & spas            0\n",
              "cafes                    0\n",
              "view points              0\n",
              "monuments                0\n",
              "gardens                  0\n",
              "avg                      0\n",
              "dtype: int64"
            ]
          },
          "metadata": {
            "tags": []
          },
          "execution_count": 9
        }
      ]
    },
    {
      "cell_type": "code",
      "metadata": {
        "id": "0NYTb7xQKatK"
      },
      "source": [
        "data['avg'] = data.mean(axis=1)\n"
      ],
      "execution_count": 10,
      "outputs": []
    },
    {
      "cell_type": "code",
      "metadata": {
        "colab": {
          "base_uri": "https://localhost:8080/"
        },
        "id": "c7Bq86mfKcpm",
        "outputId": "df395f5c-5a61-435e-bbae-206473e30392"
      },
      "source": [
        "data['avg']"
      ],
      "execution_count": 11,
      "outputs": [
        {
          "output_type": "execute_result",
          "data": {
            "text/plain": [
              "0       1.573750\n",
              "1       1.586250\n",
              "2       1.585000\n",
              "3       1.593750\n",
              "4       1.585000\n",
              "          ...   \n",
              "5451    2.295417\n",
              "5452    1.970417\n",
              "5453    2.063333\n",
              "5454    2.189167\n",
              "5455    2.087917\n",
              "Name: avg, Length: 5456, dtype: float64"
            ]
          },
          "metadata": {
            "tags": []
          },
          "execution_count": 11
        }
      ]
    },
    {
      "cell_type": "code",
      "metadata": {
        "colab": {
          "base_uri": "https://localhost:8080/"
        },
        "id": "ha8GZMsrLQxH",
        "outputId": "59956542-df95-4223-850b-03fad974d14c"
      },
      "source": [
        "data['avg'].max()\n"
      ],
      "execution_count": 12,
      "outputs": [
        {
          "output_type": "execute_result",
          "data": {
            "text/plain": [
              "2.8204166666666666"
            ]
          },
          "metadata": {
            "tags": []
          },
          "execution_count": 12
        }
      ]
    },
    {
      "cell_type": "code",
      "metadata": {
        "colab": {
          "base_uri": "https://localhost:8080/"
        },
        "id": "tV3XfGH4LlTR",
        "outputId": "8af9eaa2-c353-4e2d-8b14-eef8c0dbb603"
      },
      "source": [
        "data['avg'].min()\n"
      ],
      "execution_count": 13,
      "outputs": [
        {
          "output_type": "execute_result",
          "data": {
            "text/plain": [
              "1.22625"
            ]
          },
          "metadata": {
            "tags": []
          },
          "execution_count": 13
        }
      ]
    },
    {
      "cell_type": "code",
      "metadata": {
        "colab": {
          "base_uri": "https://localhost:8080/",
          "height": 243
        },
        "id": "veQwif44NRxS",
        "outputId": "40e174e1-6ee5-4bb1-d76d-5630a3cd12dc"
      },
      "source": [
        "conditions = [\n",
        "    (data['avg'] >= 0) & (data['avg'] <= 1),\n",
        "    (data['avg'] >= 1) & (data['avg'] <= 2),\n",
        "    (data['avg'] >= 2) & (data['avg'] <= 3),\n",
        "    (data['avg'] >= 3) & (data['avg'] <= 4),\n",
        "    (data['avg'] >= 4) & (data['avg'] <= 5),\n",
        "    ]\n",
        "\n",
        "# create a list of the values we want to assign for each condition\n",
        "values = ['1', '2', '3', '4','5']\n",
        "\n",
        "# create a new column and use np.select to assign values to it using our lists as arguments\n",
        "data['review'] = np.select(conditions, values)\n",
        "\n",
        "# display updated DataFrame\n",
        "data.tail()\n"
      ],
      "execution_count": 14,
      "outputs": [
        {
          "output_type": "execute_result",
          "data": {
            "text/html": [
              "<div>\n",
              "<style scoped>\n",
              "    .dataframe tbody tr th:only-of-type {\n",
              "        vertical-align: middle;\n",
              "    }\n",
              "\n",
              "    .dataframe tbody tr th {\n",
              "        vertical-align: top;\n",
              "    }\n",
              "\n",
              "    .dataframe thead th {\n",
              "        text-align: right;\n",
              "    }\n",
              "</style>\n",
              "<table border=\"1\" class=\"dataframe\">\n",
              "  <thead>\n",
              "    <tr style=\"text-align: right;\">\n",
              "      <th></th>\n",
              "      <th>churches</th>\n",
              "      <th>resorts</th>\n",
              "      <th>beaches</th>\n",
              "      <th>parks</th>\n",
              "      <th>theatres</th>\n",
              "      <th>museums</th>\n",
              "      <th>malls</th>\n",
              "      <th>zoo</th>\n",
              "      <th>restaurants</th>\n",
              "      <th>pubs/bars</th>\n",
              "      <th>local services</th>\n",
              "      <th>burger/pizza shops</th>\n",
              "      <th>hotels/other lodgings</th>\n",
              "      <th>juice bars</th>\n",
              "      <th>art galleries</th>\n",
              "      <th>dance clubs</th>\n",
              "      <th>swimming pools</th>\n",
              "      <th>gyms</th>\n",
              "      <th>bakeries</th>\n",
              "      <th>beauty &amp; spas</th>\n",
              "      <th>cafes</th>\n",
              "      <th>view points</th>\n",
              "      <th>monuments</th>\n",
              "      <th>gardens</th>\n",
              "      <th>avg</th>\n",
              "      <th>review</th>\n",
              "    </tr>\n",
              "  </thead>\n",
              "  <tbody>\n",
              "    <tr>\n",
              "      <th>5451</th>\n",
              "      <td>0.91</td>\n",
              "      <td>5.00</td>\n",
              "      <td>4.00</td>\n",
              "      <td>2.79</td>\n",
              "      <td>2.77</td>\n",
              "      <td>2.57</td>\n",
              "      <td>2.43</td>\n",
              "      <td>1.09</td>\n",
              "      <td>1.77</td>\n",
              "      <td>1.04</td>\n",
              "      <td>1.02</td>\n",
              "      <td>1.06</td>\n",
              "      <td>1.29</td>\n",
              "      <td>1.29</td>\n",
              "      <td>5.00</td>\n",
              "      <td>0.66</td>\n",
              "      <td>0.65</td>\n",
              "      <td>0.66</td>\n",
              "      <td>0.69</td>\n",
              "      <td>5.00</td>\n",
              "      <td>1.05</td>\n",
              "      <td>5.0</td>\n",
              "      <td>5.0</td>\n",
              "      <td>1.56</td>\n",
              "      <td>2.295417</td>\n",
              "      <td>3</td>\n",
              "    </tr>\n",
              "    <tr>\n",
              "      <th>5452</th>\n",
              "      <td>0.93</td>\n",
              "      <td>5.00</td>\n",
              "      <td>4.02</td>\n",
              "      <td>2.79</td>\n",
              "      <td>2.78</td>\n",
              "      <td>2.57</td>\n",
              "      <td>1.77</td>\n",
              "      <td>1.07</td>\n",
              "      <td>1.76</td>\n",
              "      <td>1.02</td>\n",
              "      <td>1.01</td>\n",
              "      <td>1.04</td>\n",
              "      <td>1.27</td>\n",
              "      <td>1.27</td>\n",
              "      <td>0.89</td>\n",
              "      <td>0.65</td>\n",
              "      <td>0.64</td>\n",
              "      <td>0.65</td>\n",
              "      <td>1.59</td>\n",
              "      <td>1.62</td>\n",
              "      <td>1.06</td>\n",
              "      <td>5.0</td>\n",
              "      <td>5.0</td>\n",
              "      <td>1.09</td>\n",
              "      <td>1.970417</td>\n",
              "      <td>2</td>\n",
              "    </tr>\n",
              "    <tr>\n",
              "      <th>5453</th>\n",
              "      <td>0.94</td>\n",
              "      <td>5.00</td>\n",
              "      <td>4.03</td>\n",
              "      <td>2.80</td>\n",
              "      <td>2.78</td>\n",
              "      <td>2.57</td>\n",
              "      <td>1.75</td>\n",
              "      <td>1.05</td>\n",
              "      <td>1.75</td>\n",
              "      <td>1.00</td>\n",
              "      <td>0.99</td>\n",
              "      <td>1.00</td>\n",
              "      <td>1.08</td>\n",
              "      <td>1.25</td>\n",
              "      <td>0.87</td>\n",
              "      <td>0.65</td>\n",
              "      <td>0.63</td>\n",
              "      <td>0.64</td>\n",
              "      <td>0.74</td>\n",
              "      <td>5.00</td>\n",
              "      <td>1.07</td>\n",
              "      <td>5.0</td>\n",
              "      <td>5.0</td>\n",
              "      <td>1.11</td>\n",
              "      <td>2.063333</td>\n",
              "      <td>3</td>\n",
              "    </tr>\n",
              "    <tr>\n",
              "      <th>5454</th>\n",
              "      <td>0.95</td>\n",
              "      <td>4.05</td>\n",
              "      <td>4.05</td>\n",
              "      <td>2.81</td>\n",
              "      <td>2.79</td>\n",
              "      <td>2.44</td>\n",
              "      <td>1.76</td>\n",
              "      <td>1.03</td>\n",
              "      <td>1.74</td>\n",
              "      <td>0.98</td>\n",
              "      <td>0.97</td>\n",
              "      <td>0.98</td>\n",
              "      <td>1.06</td>\n",
              "      <td>1.23</td>\n",
              "      <td>5.00</td>\n",
              "      <td>0.64</td>\n",
              "      <td>0.63</td>\n",
              "      <td>0.64</td>\n",
              "      <td>0.75</td>\n",
              "      <td>5.00</td>\n",
              "      <td>1.08</td>\n",
              "      <td>5.0</td>\n",
              "      <td>5.0</td>\n",
              "      <td>1.12</td>\n",
              "      <td>2.189167</td>\n",
              "      <td>3</td>\n",
              "    </tr>\n",
              "    <tr>\n",
              "      <th>5455</th>\n",
              "      <td>0.95</td>\n",
              "      <td>4.07</td>\n",
              "      <td>5.00</td>\n",
              "      <td>2.82</td>\n",
              "      <td>2.80</td>\n",
              "      <td>2.57</td>\n",
              "      <td>2.42</td>\n",
              "      <td>1.02</td>\n",
              "      <td>1.74</td>\n",
              "      <td>0.96</td>\n",
              "      <td>0.95</td>\n",
              "      <td>0.96</td>\n",
              "      <td>1.01</td>\n",
              "      <td>1.21</td>\n",
              "      <td>0.85</td>\n",
              "      <td>0.64</td>\n",
              "      <td>0.62</td>\n",
              "      <td>0.63</td>\n",
              "      <td>0.78</td>\n",
              "      <td>5.00</td>\n",
              "      <td>1.08</td>\n",
              "      <td>5.0</td>\n",
              "      <td>5.0</td>\n",
              "      <td>1.17</td>\n",
              "      <td>2.087917</td>\n",
              "      <td>3</td>\n",
              "    </tr>\n",
              "  </tbody>\n",
              "</table>\n",
              "</div>"
            ],
            "text/plain": [
              "      churches  resorts  beaches  parks  ...  monuments  gardens       avg  review\n",
              "5451      0.91     5.00     4.00   2.79  ...        5.0     1.56  2.295417       3\n",
              "5452      0.93     5.00     4.02   2.79  ...        5.0     1.09  1.970417       2\n",
              "5453      0.94     5.00     4.03   2.80  ...        5.0     1.11  2.063333       3\n",
              "5454      0.95     4.05     4.05   2.81  ...        5.0     1.12  2.189167       3\n",
              "5455      0.95     4.07     5.00   2.82  ...        5.0     1.17  2.087917       3\n",
              "\n",
              "[5 rows x 26 columns]"
            ]
          },
          "metadata": {
            "tags": []
          },
          "execution_count": 14
        }
      ]
    },
    {
      "cell_type": "code",
      "metadata": {
        "id": "t5I-N34kTDEB"
      },
      "source": [
        "X = data.iloc[:,[23, 24]].values"
      ],
      "execution_count": 15,
      "outputs": []
    },
    {
      "cell_type": "code",
      "metadata": {
        "colab": {
          "base_uri": "https://localhost:8080/",
          "height": 295
        },
        "id": "D6B_TXSZT1Fq",
        "outputId": "bfd9f1b8-9423-4e41-a98c-5a7808ec1fdc"
      },
      "source": [
        "from sklearn.cluster import KMeans\n",
        "wcss = []\n",
        "for i in range(1, 11):\n",
        "    kmeans = KMeans(n_clusters = i, init = 'k-means++', random_state = 42)\n",
        "    kmeans.fit(X)\n",
        "    wcss.append(kmeans.inertia_)\n",
        "plt.plot(range(1, 11), wcss)\n",
        "plt.title('The Elbow Method')\n",
        "plt.xlabel('Number of clusters')\n",
        "plt.ylabel('WCSS')\n",
        "plt.show()"
      ],
      "execution_count": 16,
      "outputs": [
        {
          "output_type": "display_data",
          "data": {
            "image/png": "[encoded data removed]",
            "text/plain": [
              "<Figure size 432x288 with 1 Axes>"
            ]
          },
          "metadata": {
            "tags": [],
            "needs_background": "light"
          }
        }
      ]
    },
    {
      "cell_type": "code",
      "metadata": {
        "id": "paARdZ4jUOy7"
      },
      "source": [
        "kmeans = KMeans(n_clusters = 2, init = 'k-means++', random_state = 42)\n",
        "y_kmeans = kmeans.fit_predict(X)"
      ],
      "execution_count": 17,
      "outputs": []
    },
    {
      "cell_type": "code",
      "metadata": {
        "colab": {
          "base_uri": "https://localhost:8080/",
          "height": 295
        },
        "id": "hQiCjHI0UXNa",
        "outputId": "4e707a06-302d-4dda-d62c-e416f4b3108b"
      },
      "source": [
        "plt.scatter(X[y_kmeans == 0, 0], X[y_kmeans == 0, 1], s = 100, c = 'red', label = 'Cluster 1')\n",
        "plt.scatter(X[y_kmeans == 1, 0], X[y_kmeans == 1, 1], s = 100, c = 'blue', label = 'Cluster 2')\n",
        "plt.scatter(kmeans.cluster_centers_[:, 0], kmeans.cluster_centers_[:, 1], s = 300, c = 'yellow', label = 'Centroids')\n",
        "plt.title('clusters of reviews')\n",
        "plt.xlabel('avg')\n",
        "plt.ylabel('review')\n",
        "plt.legend()\n",
        "plt.show()"
      ],
      "execution_count": 18,
      "outputs": [
        {
          "output_type": "display_data",
          "data": {
            "image/png": "[encoded data removed]",
            "text/plain": [
              "<Figure size 432x288 with 1 Axes>"
            ]
          },
          "metadata": {
            "tags": [],
            "needs_background": "light"
          }
        }
      ]
    },
    {
      "cell_type": "code",
      "metadata": {
        "colab": {
          "base_uri": "https://localhost:8080/",
          "height": 298
        },
        "id": "RumUSPbpdWRD",
        "outputId": "cf6081bd-24b1-4535-a0d5-9c3fe021ce64"
      },
      "source": [
        "import scipy.cluster.hierarchy as sch\n",
        "dendrogram = sch.dendrogram(sch.linkage(X, method = 'ward'))\n",
        "plt.title('Dendrogram')\n",
        "plt.xlabel('avg')\n",
        "plt.ylabel('Euclidean distances')\n",
        "plt.show()"
      ],
      "execution_count": 19,
      "outputs": [
        {
          "output_type": "display_data",
          "data": {
            "image/png": "[encoded data removed]",
            "text/plain": [
              "<Figure size 432x288 with 1 Axes>"
            ]
          },
          "metadata": {
            "tags": [],
            "needs_background": "light"
          }
        }
      ]
    },
    {
      "cell_type": "code",
      "metadata": {
        "id": "hwp0lgPmdYaO"
      },
      "source": [
        "from sklearn.cluster import AgglomerativeClustering\n",
        "hc = AgglomerativeClustering(n_clusters = 2, affinity = 'euclidean', linkage = 'ward')\n",
        "y_hc = hc.fit_predict(X)"
      ],
      "execution_count": 20,
      "outputs": []
    },
    {
      "cell_type": "code",
      "metadata": {
        "colab": {
          "base_uri": "https://localhost:8080/",
          "height": 295
        },
        "id": "pXDsQNswdewC",
        "outputId": "d78f9509-50e6-4a6f-ddd8-e1261e4fb427"
      },
      "source": [
        "plt.scatter(X[y_hc == 0, 0], X[y_hc == 0, 1], s = 100, c = 'red', label = 'Cluster 1')\n",
        "plt.scatter(X[y_hc == 1, 0], X[y_hc == 1, 1], s = 100, c = 'blue', label = 'Cluster 2')\n",
        "plt.title('Clusters of reviews')\n",
        "plt.xlabel('avg')\n",
        "plt.ylabel('review')\n",
        "plt.legend()\n",
        "plt.show()"
      ],
      "execution_count": 21,
      "outputs": [
        {
          "output_type": "display_data",
          "data": {
            "image/png": "[encoded data removed]",
            "text/plain": [
              "<Figure size 432x288 with 1 Axes>"
            ]
          },
          "metadata": {
            "tags": [],
            "needs_background": "light"
          }
        }
      ]
    }
  ]
}